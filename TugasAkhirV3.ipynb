{
 "cells": [
  {
   "cell_type": "code",
   "execution_count": 24,
   "id": "0c6ed901",
   "metadata": {},
   "outputs": [],
   "source": [
    "import numpy as np\n",
    "import pandas as pd\n",
    "from sklearn.preprocessing import StandardScaler\n",
    "from sklearn.ensemble import RandomForestRegressor\n",
    "from xgboost import XGBRegressor\n",
    "from sklearn.model_selection import train_test_split, RandomizedSearchCV\n",
    "from sklearn.metrics import mean_squared_error, r2_score, accuracy_score\n",
    "from mlens.ensemble import SuperLearner\n",
    "from sklearn.linear_model import LinearRegression\n",
    "\n",
    "df = pd.read_excel('Data TA.xlsx')\n",
    "X = df[['API', 'Res Temp']].values\n",
    "y = df['Viscosity'].values\n"
   ]
  },
  {
   "cell_type": "code",
   "execution_count": 26,
   "id": "30ac65a9",
   "metadata": {},
   "outputs": [],
   "source": [
    "# Normalization\n",
    "\n",
    "y_scaled = y.reshape(-1, 1)\n",
    "\n",
    "scaler = StandardScaler()\n",
    "X_scaled = scaler.fit_transform(X)\n",
    "y_scaled = scaler.fit_transform(y_scaled)"
   ]
  },
  {
   "cell_type": "code",
   "execution_count": 37,
   "id": "2a9741eb",
   "metadata": {},
   "outputs": [
    {
     "data": {
      "text/plain": [
       "((83, 2), (21, 2), (83, 1), (21, 1))"
      ]
     },
     "execution_count": 37,
     "metadata": {},
     "output_type": "execute_result"
    }
   ],
   "source": [
    "# Split the dataset into train and test sets\n",
    "X_train, X_test, y_train, y_test = train_test_split(X_scaled, y_scaled, test_size=0.2, random_state=42)\n",
    "X_train.shape, X_test.shape, y_train.shape, y_test.shape"
   ]
  },
  {
   "cell_type": "code",
   "execution_count": 38,
   "id": "9043deef",
   "metadata": {},
   "outputs": [],
   "source": [
    "# Define your base learners\n",
    "base_learner1 = RandomForestRegressor()\n",
    "base_learner2 = XGBRegressor()\n",
    "\n",
    "# Define the hyperparameter search space for Random Forest\n",
    "rf_param_grid = {\n",
    "    'n_estimators': [40, 80, 100, 120, 140, 160, 180, 200],\n",
    "    'max_depth': [40, 60, 80, 100, 120],\n",
    "    'min_samples_split': [2, 4, 8],\n",
    "    'min_samples_leaf': [1, 2, 4],\n",
    "    'max_features': ['auto', 'sqrt', 'log2']\n",
    "}\n",
    "\n",
    "# Define the hyperparameter search space for XGBoost\n",
    "xgb_param_grid = {\n",
    "    'n_estimators': [100, 200, 300],\n",
    "    'max_depth': [3, 5, 7],\n",
    "    'learning_rate': [0.1, 0.01, 0.001],\n",
    "    'subsample': [0.8, 0.9, 1.0],\n",
    "    'colsample_bytree': [0.8, 0.9, 1.0]\n",
    "}\n",
    "\n",
    "# Perform randomized search for Random Forest\n",
    "rf_random_search = RandomizedSearchCV(\n",
    "    base_learner1,\n",
    "    param_distributions=rf_param_grid,\n",
    "    n_iter=100,\n",
    "    cv=5,\n",
    "    random_state=42,\n",
    "    n_jobs = -1\n",
    ")\n",
    "\n",
    "# Perform randomized search for XGBoost\n",
    "xgb_random_search = RandomizedSearchCV(\n",
    "    base_learner2,\n",
    "    param_distributions=xgb_param_grid,\n",
    "    n_iter=50,\n",
    "    cv=5,\n",
    "    random_state=42\n",
    ")"
   ]
  },
  {
   "cell_type": "code",
   "execution_count": 40,
   "id": "09ce016e",
   "metadata": {},
   "outputs": [
    {
     "name": "stdout",
     "output_type": "stream",
     "text": [
      "Best Parameters:  {'n_estimators': 100, 'min_samples_split': 2, 'min_samples_leaf': 1, 'max_features': 'log2', 'max_depth': 80}  \n",
      "\n"
     ]
    }
   ],
   "source": [
    "rf_random_search.fit(X_train, y_train.ravel())\n",
    "print ('Best Parameters: ', rf_random_search.best_params_, ' \\n')"
   ]
  },
  {
   "cell_type": "code",
   "execution_count": 41,
   "id": "814114dd",
   "metadata": {},
   "outputs": [
    {
     "name": "stdout",
     "output_type": "stream",
     "text": [
      "Best Parameters:  {'subsample': 0.9, 'n_estimators': 100, 'max_depth': 3, 'learning_rate': 0.1, 'colsample_bytree': 0.9}  \n",
      "\n"
     ]
    }
   ],
   "source": [
    "xgb_random_search.fit(X_train, y_train.ravel())\n",
    "print ('Best Parameters: ', xgb_random_search.best_params_, ' \\n')"
   ]
  },
  {
   "cell_type": "code",
   "execution_count": 42,
   "id": "c0c9c9da",
   "metadata": {},
   "outputs": [
    {
     "name": "stdout",
     "output_type": "stream",
     "text": [
      "\n",
      "Fitting 2 layers\n",
      "Processing layer-1             done | 00:00:00\n",
      "Processing layer-2             done | 00:00:00\n",
      "Fit complete                        | 00:00:01\n",
      "\n",
      "Predicting 2 layers\n",
      "Processing layer-1             done | 00:00:00\n",
      "Processing layer-2             done | 00:00:00\n",
      "Predict complete                    | 00:00:00\n",
      "Mean Squared Error: 0.8804213324850058\n",
      "R2: 0.050703262895064105\n"
     ]
    }
   ],
   "source": [
    "# New base learner\n",
    "random_forest = RandomForestRegressor(n_estimators = 100, min_samples_split = 2, min_samples_leaf = 1, max_features = 'log2', max_depth = 80)\n",
    "xgboost = XGBRegressor(subsample = 0.9, n_estimators = 100, max_depth = 3, learning_rate = 0.1, colsample_bytree = 0.9)\n",
    "\n",
    "# Create an instance of the SuperLearner class\n",
    "super_learner = SuperLearner(scorer=mean_squared_error, random_state=42, verbose=2)\n",
    "\n",
    "# Add the base learners to the Super Learner\n",
    "super_learner.add(random_forest)\n",
    "super_learner.add(xgboost)\n",
    "\n",
    "# Add meta learner\n",
    "#super_learner.add_meta(LinearRegression())\n",
    "\n",
    "# Fit the Super Learner\n",
    "super_learner.fit(X_train, y_train.ravel())\n",
    "\n",
    "# Make predictions on the test set\n",
    "y_pred = super_learner.predict(X_test)\n",
    "y_pred = y_pred.reshape(-1, 1)\n",
    "\n",
    "# Denormalization\n",
    "y_pred = scaler.inverse_transform(y_pred)\n",
    "y_test = scaler.inverse_transform(y_test)\n",
    "\n",
    "# Calculate mean squared error\n",
    "mse = mean_squared_error(y_test, y_pred)\n",
    "r2 = r2_score(y_test, y_pred)\n",
    "print(\"Mean Squared Error:\", mse)\n",
    "print(\"R2:\", r2)"
   ]
  },
  {
   "cell_type": "code",
   "execution_count": null,
   "id": "420a777b",
   "metadata": {},
   "outputs": [],
   "source": []
  }
 ],
 "metadata": {
  "kernelspec": {
   "display_name": "Python 3 (ipykernel)",
   "language": "python",
   "name": "python3"
  },
  "language_info": {
   "codemirror_mode": {
    "name": "ipython",
    "version": 3
   },
   "file_extension": ".py",
   "mimetype": "text/x-python",
   "name": "python",
   "nbconvert_exporter": "python",
   "pygments_lexer": "ipython3",
   "version": "3.9.12"
  }
 },
 "nbformat": 4,
 "nbformat_minor": 5
}
